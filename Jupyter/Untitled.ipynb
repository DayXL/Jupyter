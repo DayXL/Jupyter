{
 "cells": [
  {
   "cell_type": "code",
   "execution_count": 21,
   "id": "b29307fa",
   "metadata": {},
   "outputs": [],
   "source": [
    "import pyautogui\n",
    "import time\n",
    "\n",
    "distancia = 100\n",
    "time.sleep(20)\n",
    "\n",
    "while distancia > 0:\n",
    "    \n",
    "    pyautogui.drag(distancia, 0, duration=0.5)   # move right\n",
    "    distancia -= 5\n",
    "    pyautogui.write('Socorooo', interval=0.25)\n",
    "    \n",
    "    pyautogui.drag(0, distancia, duration=0.5)   # move down\n",
    "    pyautogui.drag(-distancia, 0, duration=0.5)  # move left\n",
    "    distancia -= 5\n",
    "    \n",
    "    pyautogui.write('aaaa', interval=0.25)\n",
    "    \n",
    "    pyautogui.drag(0, -distancia, duration=0.5)  # move up\n",
    "    \n",
    "    pyautogui.write('socorroooo', interval=0.25)"
   ]
  },
  {
   "cell_type": "code",
   "execution_count": null,
   "id": "11abbc93",
   "metadata": {},
   "outputs": [],
   "source": []
  }
 ],
 "metadata": {
  "kernelspec": {
   "display_name": "Python 3 (ipykernel)",
   "language": "python",
   "name": "python3"
  },
  "language_info": {
   "codemirror_mode": {
    "name": "ipython",
    "version": 3
   },
   "file_extension": ".py",
   "mimetype": "text/x-python",
   "name": "python",
   "nbconvert_exporter": "python",
   "pygments_lexer": "ipython3",
   "version": "3.9.13"
  }
 },
 "nbformat": 4,
 "nbformat_minor": 5
}
