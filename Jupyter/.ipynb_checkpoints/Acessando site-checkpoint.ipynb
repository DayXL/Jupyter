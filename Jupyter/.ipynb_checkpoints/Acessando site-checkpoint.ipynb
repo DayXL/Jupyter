{
 "cells": [
  {
   "cell_type": "code",
   "execution_count": 3,
   "id": "ba4fb528",
   "metadata": {},
   "outputs": [],
   "source": [
    "from selenium import webdriver\n",
    "from webdriver_manager.chrome import ChromeDriverManager\n",
    "from selenium.webdriver.chrome.service import Service\n",
    "import random \n",
    "import time\n",
    "\n",
    "servico = Service(ChromeDriverManager().install())\n",
    "\n",
    "navegador = webdriver.Chrome(service=servico)\n",
    "\n",
    "navegador.get(\"https://pt.planetcalc.com/2787/\")\n",
    "\n",
    "listEqu = [\"x^2-3\", \"x^2+2x\", \"x*5\", \"x+2\"]\n",
    "\n",
    "for i in range(0,10):\n",
    "    time.sleep(5)\n",
    "    num = random.randint(0,100)\n",
    "    equ = random.randint(0,3)\n",
    "    \n",
    "    navegador.find_element('xpath', '//*[@id=\"dialogv62855de80cd52_formula\"]').clear()\n",
    "    navegador.find_element('xpath', '//*[@id=\"dialogv62855de80cd52_formula\"]').send_keys(listEqu[equ])\n",
    "    \n",
    "    navegador.find_element('xpath', '//*[@id=\"dialogv62855de80cd52_xs\"]').clear()\n",
    "    navegador.find_element('xpath', '//*[@id=\"dialogv62855de80cd52_xs\"]').send_keys(num)\n",
    "\n",
    "    navegador.find_element('xpath', '//*[@id=\"dialogv62855de80cd52_button_text\"]').click()\n",
    "    "
   ]
  },
  {
   "cell_type": "code",
   "execution_count": null,
   "id": "061e2201",
   "metadata": {},
   "outputs": [],
   "source": []
  }
 ],
 "metadata": {
  "kernelspec": {
   "display_name": "Python 3 (ipykernel)",
   "language": "python",
   "name": "python3"
  },
  "language_info": {
   "codemirror_mode": {
    "name": "ipython",
    "version": 3
   },
   "file_extension": ".py",
   "mimetype": "text/x-python",
   "name": "python",
   "nbconvert_exporter": "python",
   "pygments_lexer": "ipython3",
   "version": "3.9.13"
  }
 },
 "nbformat": 4,
 "nbformat_minor": 5
}
