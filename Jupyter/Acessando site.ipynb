{
 "cells": [
  {
   "cell_type": "code",
   "execution_count": 1,
   "id": "ba4fb528",
   "metadata": {},
   "outputs": [],
   "source": [
    "from selenium import webdriver\n",
    "from webdriver_manager.chrome import ChromeDriverManager\n",
    "from selenium.webdriver.chrome.service import Service\n",
    "\n",
    "servico = Service(ChromeDriverManager().install())\n",
    "\n",
    "navegador = webdriver.Chrome(service=servico)\n",
    "\n",
    "navegador.get(\"https://pt.planetcalc.com/2787/\")\n",
    "\n",
    "navegador.find_element('xpath', '//*[@id=\"dialogv62855de80cd52_formula\"]').clear()\n",
    "navegador.find_element('xpath', '//*[@id=\"dialogv62855de80cd52_formula\"]').send_keys(\"x^2-3\")\n",
    "\n",
    "navegador.find_element('xpath', '//*[@id=\"dialogv62855de80cd52_xs\"]').clear()\n",
    "navegador.find_element('xpath', '//*[@id=\"dialogv62855de80cd52_xs\"]').send_keys(\"2,8\")\n",
    "\n",
    "navegador.find_element('xpath', '//*[@id=\"dialogv62855de80cd52_button_text\"]').click()"
   ]
  },
  {
   "cell_type": "code",
   "execution_count": null,
   "id": "1b1507d0",
   "metadata": {},
   "outputs": [],
   "source": []
  }
 ],
 "metadata": {
  "kernelspec": {
   "display_name": "Python 3 (ipykernel)",
   "language": "python",
   "name": "python3"
  },
  "language_info": {
   "codemirror_mode": {
    "name": "ipython",
    "version": 3
   },
   "file_extension": ".py",
   "mimetype": "text/x-python",
   "name": "python",
   "nbconvert_exporter": "python",
   "pygments_lexer": "ipython3",
   "version": "3.9.13"
  }
 },
 "nbformat": 4,
 "nbformat_minor": 5
}
